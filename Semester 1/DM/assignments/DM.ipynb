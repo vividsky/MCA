{
 "metadata": {
  "language_info": {
   "codemirror_mode": {
    "name": "ipython",
    "version": 3
   },
   "file_extension": ".py",
   "mimetype": "text/x-python",
   "name": "python",
   "nbconvert_exporter": "python",
   "pygments_lexer": "ipython3",
   "version": "3.7.3-final"
  },
  "orig_nbformat": 2,
  "kernelspec": {
   "name": "python3",
   "display_name": "Python 3.7.3 32-bit",
   "metadata": {
    "interpreter": {
     "hash": "1f569f38f9ff0ccc2d6519de6d5565ac966e53582e7a68dd5bf488942db796b1"
    }
   }
  }
 },
 "nbformat": 4,
 "nbformat_minor": 2,
 "cells": [
  {
   "cell_type": "code",
   "execution_count": 19,
   "metadata": {},
   "outputs": [],
   "source": [
    "set1 = set(map(int,set(input('distinct ele of set1 with space:e.g. 1 2 3').strip().split())))\n",
    "set2 = set(map(int,set(input('distinct ele of set2 with space:e.g. 2 3 4').strip().split())))"
   ]
  },
  {
   "cell_type": "code",
   "execution_count": 20,
   "metadata": {},
   "outputs": [],
   "source": [
    "list1 = list(map(int,input('ele(1 or 0) of list1 with space:e.g. 1 1 0 0').strip().split()))\n",
    "list2 = list(map(int,input('ele(1 or 0) of list2 with space:e.g. 1 0 0 1').strip().split()))\n",
    "list3 = list(map(int,input('ele(1 or 0) of list3 with space:e.g. 1 0 1 0').strip().split()))"
   ]
  },
  {
   "cell_type": "code",
   "execution_count": 36,
   "metadata": {},
   "outputs": [
    {
     "output_type": "stream",
     "name": "stdout",
     "text": [
      "{1, 2, 3}\n{2, 3, 4, 5}\n[1, 1, 0, 0]\n[1, 0, 0, 1]\n[1, 0, 1, 0]\n"
     ]
    }
   ],
   "source": [
    "print(f'set1: {set1}\\nset2: {set2}\\nlist1: {list1}\\nlist2:{list2}\\n{list3}')"
   ]
  },
  {
   "cell_type": "code",
   "execution_count": 11,
   "metadata": {},
   "outputs": [
    {
     "output_type": "stream",
     "name": "stdout",
     "text": [
      "user provided elts are:\n [1, 4, 2, 5, 3]\n(True, 'Index of 3 is 4')\n"
     ]
    }
   ],
   "source": [
    "def RecSearch(a,x):\n",
    "   mid=len(a)//2\n",
    "   if not len(a):\n",
    "      return False\n",
    "   elif x==a[mid]:\n",
    "      return True,f'Index of {x} is {user.index(x)}'\n",
    "   \n",
    "   else:\n",
    "      if x>a[mid]:\n",
    "         return RecSearch(a[mid+1:],x)\n",
    "      else:\n",
    "         return RecSearch(a[:mid],x)\n",
    "\n",
    "user=list(map(int,input('list elts, space separated:').strip().split()))\n",
    "user_list = sorted(user)\n",
    "x = int(input('ele you want to search in list:').strip())\n",
    "print(f'user provided elts are:\\n',user)\n",
    "print(RecSearch(user_list,x)) "
   ]
  },
  {
   "cell_type": "code",
   "execution_count": 12,
   "metadata": {},
   "outputs": [
    {
     "output_type": "stream",
     "name": "stdout",
     "text": [
      "user provided elts are:\n [1, 3, 2, 5, 7]\n(True, 'Index of 3 is 1')\n"
     ]
    }
   ],
   "source": [
    "def IteSearch(a,x,l,r):\n",
    "   \n",
    "   while l<=r:\n",
    "        mid=(l + r)//2\n",
    "        if x==a[mid]:\n",
    "            return True,f'Index of {x} is {user.index(x)}'\n",
    "\n",
    "        elif x>a[mid]:\n",
    "            l=mid+1\n",
    "        elif x<a[mid]:\n",
    "            r=mid-1\n",
    "user=list(map(int,input('list elts, space separated:').strip().split()))\n",
    "user_list = sorted(user)\n",
    "x = int(input('ele you want to search in list:').strip())\n",
    "print(f'user provided elts are:\\n',user)\n",
    "print(IteSearch(user_list,x,0,len(user_list)-1)) "
   ]
  },
  {
   "cell_type": "code",
   "execution_count": 8,
   "metadata": {
    "tags": []
   },
   "outputs": [
    {
     "output_type": "stream",
     "name": "stdout",
     "text": [
      "From A to C\nFrom A to B\nFrom C to B\nFrom A to C\nFrom B to A\nFrom B to C\nFrom A to C\n"
     ]
    }
   ],
   "source": [
    "def tower_of_hanoi(n,A,C,B):\n",
    "    if n == 1:\n",
    "        print(f'From {A} to {C}')\n",
    "    else:\n",
    "        tower_of_hanoi(n-1,A,B,C)\n",
    "        print(f'From {A} to {C}')\n",
    "        tower_of_hanoi(n-1,B,C,A)\n",
    "    \n",
    "n=3\n",
    "tower_of_hanoi(n,'A','C','B')\n"
   ]
  },
  {
   "cell_type": "code",
   "execution_count": 37,
   "metadata": {},
   "outputs": [
    {
     "output_type": "stream",
     "name": "stdout",
     "text": [
      "[[3], [2], [3, 2], [1], [3, 1], [2, 1], [3, 2, 1]]\n"
     ]
    }
   ],
   "source": [
    "from copy import deepcopy\n",
    "def powerRec(set1):\n",
    "    if not set1:\n",
    "        return list()\n",
    "    else:\n",
    "        ele = set1.pop()\n",
    "        power = powerRec(set1)\n",
    "        if not power:\n",
    "            power.append([ele])\n",
    "        else:\n",
    "            u = []\n",
    "            u.append([ele])\n",
    "            for i in power:\n",
    "                j = deepcopy(i)\n",
    "                j.append(ele)\n",
    "                u.append(j)\n",
    "            for k in u:\n",
    "                power.append(k)\n",
    "        return power\n",
    "    return power\n",
    "print(powerRec(set1))\n",
    "    \n"
   ]
  },
  {
   "cell_type": "code",
   "execution_count": 42,
   "metadata": {},
   "outputs": [
    {
     "output_type": "stream",
     "name": "stdout",
     "text": [
      "[[1], [2], [1, 2], [3], [1, 3], [2, 3], [1, 2, 3]]\n"
     ]
    }
   ],
   "source": [
    "set1 = set([1,2,3])\n",
    "power = []\n",
    "def powerIte(set1):\n",
    "    for ele in set1:\n",
    "        if len(power) == 0:\n",
    "            power.append([ele])\n",
    "            pass\n",
    "        else:\n",
    "            u = []\n",
    "            u.append([ele])\n",
    "            for x in power:\n",
    "                j = deepcopy(x)\n",
    "                j.append(ele)\n",
    "                u.append(j)\n",
    "            for k in u:\n",
    "                power.append(k)\n",
    "    return power\n",
    "print(powerIte(set1))"
   ]
  },
  {
   "cell_type": "code",
   "execution_count": 43,
   "metadata": {},
   "outputs": [
    {
     "output_type": "stream",
     "name": "stdout",
     "text": [
      "{2, 3}\n"
     ]
    }
   ],
   "source": [
    "def intersection(set1,set2):\n",
    "    int_set = {ele for ele in set1 if ele in set2}\n",
    "    return int_set\n",
    "print(intersection(set1,set2))"
   ]
  },
  {
   "cell_type": "code",
   "execution_count": 49,
   "metadata": {},
   "outputs": [
    {
     "output_type": "stream",
     "name": "stdout",
     "text": [
      "{1, 2, 3, 4, 5}\n"
     ]
    }
   ],
   "source": [
    "def union(set1,set2):\n",
    "     return set1 | set2\n",
    "print(union(set1,set2))"
   ]
  },
  {
   "cell_type": "code",
   "execution_count": 50,
   "metadata": {},
   "outputs": [
    {
     "output_type": "stream",
     "name": "stdout",
     "text": [
      "List1 is:\n[1, 1, 0, 0]\nIdentity law for OR:\n[1, 1, 0, 0]\nIdentity law for And:\n[1, 1, 0, 0]\n"
     ]
    }
   ],
   "source": [
    "def identity(list1):\n",
    "    a = [(True and i) for i in list1]\n",
    "    b = [(False or i) for i in list1]\n",
    "    print(f'List1 is:\\n{list1}\\nIdentity law for OR:\\n{a}\\nIdentity law for And:\\n{b}')\n",
    "identity(list1)\n",
    "    "
   ]
  },
  {
   "cell_type": "code",
   "execution_count": 51,
   "metadata": {},
   "outputs": [
    {
     "output_type": "stream",
     "name": "stdout",
     "text": [
      "Domination law OR:\n[True, True, True, True]\nDomination law AND:\n[False, False, False, False]\n"
     ]
    }
   ],
   "source": [
    "def domination(list1):\n",
    "    a = [(True or i) for i in list1]\n",
    "    b = [(False and i) for i in list1]\n",
    "    print(f'Domination law OR:\\n{a}\\nDomination law AND:\\n{b}')\n",
    "domination(list1)"
   ]
  },
  {
   "cell_type": "code",
   "execution_count": 52,
   "metadata": {},
   "outputs": [
    {
     "output_type": "stream",
     "name": "stdout",
     "text": [
      "List1 is:\n[1, 1, 0, 0]\nDouble Negation of List1 is:\n[1, 1, 0, 0]\n"
     ]
    }
   ],
   "source": [
    "def doubleNegation(list1):\n",
    "    a= [~(~(i)) for i in list1]\n",
    "    print(f'List1 is:\\n{list1}\\nDouble Negation of List1 is:\\n{a}')\n",
    "doubleNegation(list1)"
   ]
  },
  {
   "cell_type": "code",
   "execution_count": 53,
   "metadata": {},
   "outputs": [
    {
     "output_type": "stream",
     "name": "stdout",
     "text": [
      "not of a and b:\nTrue\nnot a or not b:\nTrue\n"
     ]
    }
   ],
   "source": [
    "def DeMorgan(list1):\n",
    "    k = list1[0]\n",
    "    for i in list1:\n",
    "        k = (k and i)\n",
    "    print(f'not of a and b:\\n{not k}')\n",
    "    for i in list1:\n",
    "        k = (k or (not i))\n",
    "    print(f'not a or not b:\\n{k}')\n",
    "DeMorgan(list1)"
   ]
  },
  {
   "cell_type": "code",
   "execution_count": 54,
   "metadata": {},
   "outputs": [
    {
     "output_type": "stream",
     "name": "stdout",
     "text": [
      "list1.(list2.list3) is:\n[1, 0, 0, 0]\n(list1.list2).list3 is:\n[1, 0, 0, 0]\n"
     ]
    }
   ],
   "source": [
    "def associative(list1,list2,list3):\n",
    "    BC = [(list2[i] and list3[i]) for i in range(len(list1))]\n",
    "    A_BC= [(list1[i] and BC[i]) for i in range(len(list1))]\n",
    "    print(f'list1.(list2.list3) is:\\n{A_BC}')\n",
    "    AB = [(list1[i] and list2[i]) for i in range(len(list1))]\n",
    "    AB_C = [(AB[i] and list3[i]) for i in range(len(list1))]\n",
    "    print(f'(list1.list2).list3 is:\\n{AB_C}')\n",
    "associative(list1,list2,list3)"
   ]
  },
  {
   "cell_type": "code",
   "execution_count": 55,
   "metadata": {},
   "outputs": [
    {
     "output_type": "stream",
     "name": "stdout",
     "text": [
      "ModusPonens\nP\tQ\t~P   ~P or Q\n0\t1\t1\t0\n0\t1\t1\t1\n1\t0\t0\t0\n1\t0\t1\t1\n"
     ]
    }
   ],
   "source": [
    "def modusPonens():\n",
    "    print('ModusPonens')\n",
    "    print('P\\tQ\\t~P   ~P or Q')\n",
    "    for P in range(2):\n",
    "        for Q in range(2):\n",
    "            print(f'{P}\\t{int(not P)}\\t{(int(not P)) or Q}\\t{Q}')\n",
    "modusPonens()"
   ]
  },
  {
   "cell_type": "code",
   "execution_count": 56,
   "metadata": {},
   "outputs": [
    {
     "output_type": "stream",
     "name": "stdout",
     "text": [
      "ModusTollens\nP\tQ\t~Q   ~P or Q\t~P\n0\t0\t1\t1\t1\n0\t1\t0\t1\t1\n1\t0\t1\t0\t0\n1\t1\t0\t1\t0\n"
     ]
    }
   ],
   "source": [
    "def modusTollens():\n",
    "    print('ModusTollens')\n",
    "    print('P\\tQ\\t~Q   ~P or Q\\t~P')\n",
    "    for P in range(2):\n",
    "        for Q in range(2):\n",
    "            print(f'{P}\\t{Q}\\t{int(not Q)}\\t{(int(not P)) or Q}\\t{int(not P)}')\n",
    "modusTollens()"
   ]
  },
  {
   "cell_type": "code",
   "execution_count": 57,
   "metadata": {},
   "outputs": [
    {
     "output_type": "stream",
     "name": "stdout",
     "text": [
      "Tautology\nP\t~P   P or ~p\n0\t1\t1\n1\t0\t1\n"
     ]
    }
   ],
   "source": [
    "def tautology():\n",
    "    print('Tautology')\n",
    "    print('P\\t~P   P or ~p')\n",
    "    for P in range(2):\n",
    "        print(f'{P}\\t{int(not P)}\\t{P or int(not P)}')\n",
    "tautology()"
   ]
  },
  {
   "cell_type": "code",
   "execution_count": 58,
   "metadata": {},
   "outputs": [
    {
     "output_type": "stream",
     "name": "stdout",
     "text": [
      "Contradiction\nP\t~P   P and ~p\n0\t1\t0\n1\t0\t0\n"
     ]
    }
   ],
   "source": [
    "def contradiction():\n",
    "    print('Contradiction')\n",
    "    print('P\\t~P   P and ~p')\n",
    "    for P in range(2):\n",
    "        print(f'{P}\\t{int(not P)}\\t{P and int(not P)}')\n",
    "contradiction()\n"
   ]
  },
  {
   "cell_type": "code",
   "execution_count": 59,
   "metadata": {},
   "outputs": [
    {
     "output_type": "stream",
     "name": "stdout",
     "text": [
      "Contingency\nP\tQ     P or Q\n0\t0\t0\n0\t1\t1\n1\t0\t1\n1\t1\t1\n"
     ]
    }
   ],
   "source": [
    "def contingency():\n",
    "    print('Contingency')\n",
    "    print('P\\tQ     P or Q')\n",
    "    for P in range(2):\n",
    "        for Q in range(2):\n",
    "            print(f'{P}\\t{Q}\\t{P or Q}')\n",
    "contingency()\n"
   ]
  },
  {
   "cell_type": "code",
   "execution_count": 66,
   "metadata": {},
   "outputs": [
    {
     "output_type": "stream",
     "name": "stdout",
     "text": [
      "[1, 2, 3]\n[1, 3, 2]\n[2, 1, 3]\n[2, 3, 1]\n[3, 2, 1]\n[3, 1, 2]\n"
     ]
    }
   ],
   "source": [
    "def permutation(set1,l,r):\n",
    "    if l == r:\n",
    "        print(set1)\n",
    "    else:\n",
    "        for i in range(l,r):\n",
    "            set1[l],set1[i] = set1[i],set1[l]\n",
    "            permutation(set1,l+1,r)\n",
    "            set1[l],set1[i] = set1[i],set1[l]\n",
    "set1=[1,2,3]\n",
    "permutation(set1,0,len(set1))"
   ]
  },
  {
   "cell_type": "code",
   "execution_count": 9,
   "metadata": {},
   "outputs": [
    {
     "output_type": "stream",
     "name": "stdout",
     "text": [
      "    1 \n   1 1 \n  1 2 1 \n"
     ]
    }
   ],
   "source": [
    "from math import factorial  \n",
    "n = 3\n",
    "for i in range(n): \n",
    "    for j in range(n-i+1):\n",
    "        print(end=\" \") \n",
    "    for j in range(i+1):  \n",
    "        print(factorial(i)//(factorial(j)*factorial(i-j)), end=\" \") \n",
    "    print()"
   ]
  },
  {
   "cell_type": "code",
   "execution_count": null,
   "metadata": {},
   "outputs": [],
   "source": []
  }
 ]
}