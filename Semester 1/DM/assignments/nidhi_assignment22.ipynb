{
 "metadata": {
  "language_info": {
   "codemirror_mode": {
    "name": "ipython",
    "version": 3
   },
   "file_extension": ".py",
   "mimetype": "text/x-python",
   "name": "python",
   "nbconvert_exporter": "python",
   "pygments_lexer": "ipython3",
   "version": "3.7.3-final"
  },
  "orig_nbformat": 2,
  "kernelspec": {
   "name": "python3",
   "display_name": "Python 3.7.3 32-bit",
   "metadata": {
    "interpreter": {
     "hash": "1f569f38f9ff0ccc2d6519de6d5565ac966e53582e7a68dd5bf488942db796b1"
    }
   }
  }
 },
 "nbformat": 4,
 "nbformat_minor": 2,
 "cells": [
  {
   "source": [
    "## Assignment 2\n",
    " 1. Write a recursive program to find the squared sum of first N natural numbers.   \n",
    " 2. Write a program to find a Preorder, Inorder and Postorder traversal of 3-ary Tree. \n",
    " 3. Write a program to solve the recurrence relation T(n) = 2*T(n/2) + n\n",
    " 4. Write a program to implement the breadth first search(BFS) and depth first search(DFS) in graph. \n",
    " 5. Write a program to identify the Eulerian and Hamiltonian circuits in a given graph. \n",
    " 6. Write a program to identify that the given graph is planar or not."
   ],
   "cell_type": "markdown",
   "metadata": {}
  },
  {
   "cell_type": "code",
   "execution_count": 5,
   "metadata": {},
   "outputs": [],
   "source": [
    "from collections import defaultdict\n",
    "from queue_stack import Queue\n",
    "from stack import Stack"
   ]
  },
  {
   "cell_type": "code",
   "execution_count": 1,
   "metadata": {},
   "outputs": [
    {
     "output_type": "stream",
     "name": "stdout",
     "text": [
      "30\n"
     ]
    }
   ],
   "source": [
    "def recSquareSum(i,n):\n",
    "    if i < 2:\n",
    "        return 1\n",
    "    else:\n",
    "        return i**2 + recSquareSum(i-1,n)\n",
    "n = 4\n",
    "print(recSquareSum(n,n))\n"
   ]
  },
  {
   "cell_type": "code",
   "execution_count": 26,
   "metadata": {},
   "outputs": [],
   "source": [
    "class Node:\n",
    "    def __init__(self, value):\n",
    "        self.value = value\n",
    "        self.left = None\n",
    "        self.mid = None\n",
    "        self.right = None\n",
    "    \n",
    "    def inorder(root):\n",
    "        if root:\n",
    "            inorder(root.left)\n",
    "            print(root.value, end = ' ')\n",
    "            inorder(root.mid)\n",
    "            inorder(root.right)\n",
    "  \n",
    "    def preorder(root):\n",
    "        if root:\n",
    "            print(root.value, end = ' ')\n",
    "            preorder(root.left)\n",
    "            preorder(root.mid)\n",
    "            preorder(root.right)\n",
    "    \n",
    "    def postorder(root):\n",
    "        if root:\n",
    "            postorder(root.left)\n",
    "            postorder(root.mid)\n",
    "            postorder(root.right)\n",
    "            print(root.value, end = ' ')\n",
    "\n",
    "  \n",
    "root = Node(1)\n",
    "root.left = Node(2)\n",
    "root.mid = Node(3)\n",
    "root.right = Node(4)\n",
    "root.left.left = Node(5)\n",
    "root.left.mid = Node(6)\n",
    "root.right.left = Node(7)\n",
    "    \n"
   ]
  },
  {
   "cell_type": "code",
   "execution_count": 29,
   "metadata": {},
   "outputs": [
    {
     "output_type": "stream",
     "name": "stdout",
     "text": [
      "\n   Tree is:\n       1\n     / | \\\n    2  3  4\n  / |    /\n 5  6   7\n\n    \nInorder traversal:\n5 2 6 1 3 7 4 \n\nPreorder traversal:\n1 2 5 6 3 4 7 \n\nPostorder traversal:\n5 6 2 3 7 4 1 "
     ]
    }
   ],
   "source": [
    "\n",
    "print(  '''\n",
    "   Tree is:\n",
    "       1\n",
    "     / | \\\\\n",
    "    2  3  4\n",
    "  / |    /\n",
    " 5  6   7\n",
    "\n",
    "    ''')   \n",
    "print('Inorder traversal:')\n",
    "inorder(root)\n",
    "print('\\n\\nPreorder traversal:')\n",
    "preorder(root)\n",
    "print('\\n\\nPostorder traversal:')\n",
    "postorder(root)\n",
    "\n"
   ]
  },
  {
   "cell_type": "code",
   "execution_count": 54,
   "metadata": {},
   "outputs": [],
   "source": [
    "class Graph:\n",
    "    def __init__(self):\n",
    "        self.edges = defaultdict(list)\n",
    "    \n",
    "    def addEdge(self,a,b):\n",
    "        self.edges[a].append(b)\n",
    "\n",
    "    \n",
    "    def BFS(self,source):\n",
    "        visited = set()\n",
    "        queue = Queue(10)\n",
    "        visited.add(source)\n",
    "        queue.enqueue(source)\n",
    "        while not queue.isempty():\n",
    "            k = queue.dequeue()\n",
    "            print(k, end = ' ')\n",
    "            for v in self.edges[k]:\n",
    "                if v not in visited:\n",
    "                    visited.add(v)\n",
    "                    queue.enqueue(v)\n",
    "        print()\n",
    "    \n",
    "    def DFS(self,source):\n",
    "        visited = set()\n",
    "        s = Stack(10)\n",
    "        s.push(source)\n",
    "        visited.add(source)\n",
    "        while len(s):\n",
    "            k = s.pop()\n",
    "            print(k, end = ' ')\n",
    "            for v in self.edges[k]:\n",
    "                if not v in visited:\n",
    "                    s.push(v)\n",
    "                    visited.add(k)\n",
    "        print()\n",
    "\n",
    "    def isPlanar(self):\n",
    "        '''\n",
    "        returns : Planar or not:\n",
    "        if 3*v - e >= 6 ---> Planar else Not Planar\n",
    "        Sample Graph : a-d-b-c-e, the Graph is connected.\n",
    "        '''\n",
    "        v = 0  #vertices in graph\n",
    "        e = 0  #edges in graph\n",
    "        for k in self.edges:\n",
    "            v += 1\n",
    "        cache = set()\n",
    "        for k,value in self.edges.items():\n",
    "            cache.add(k)\n",
    "            for ele in value:\n",
    "                if ele not in cache:\n",
    "                    e+=1\n",
    "                    cache.add(ele) \n",
    "        print(f'Edges,Vertices : {e},{v}')\n",
    "        if 3*v - e < 6:\n",
    "            return 'Not Planar'\n",
    "        return 'Planar'\n",
    "    \n",
    "    def isEuler(self):\n",
    "        '''\n",
    "        returns : if Graph is Euler or not\n",
    "        if any vertex of Graph exists of degree odd --> Graph is not Euler else Euler Graph\n",
    "        '''\n",
    "        for value in self.edges:\n",
    "            if len(value) & 1 :\n",
    "                return 'Not Euler Graph'\n",
    "        return 'Euler Graph'"
   ]
  },
  {
   "cell_type": "code",
   "execution_count": 55,
   "metadata": {},
   "outputs": [
    {
     "output_type": "stream",
     "name": "stdout",
     "text": [
      "defaultdict(<class 'list'>, {'a': ['d'], 'd': ['a', 'b'], 'b': ['d', 'c'], 'c': ['b', 'e'], 'e': ['c']})\nBFS of Graph a-d-b-c-e is :\nb d c a e \n\nDFS of Graph a-d-b-c-e is :\nb c e d a \n\nAssuming that the Graph is connected, the Graph is:\nEdges,Vertices : 4,5\nPlanar\n\nThe Graph is Euler or not: \nNot Euler Graph\n"
     ]
    }
   ],
   "source": [
    "# a-d-b-c-e\n",
    "graph = Graph()\n",
    "graph.addEdge('a','d')\n",
    "graph.addEdge('d','a')\n",
    "graph.addEdge('b','d')\n",
    "graph.addEdge('d','b')\n",
    "graph.addEdge('b','c')\n",
    "graph.addEdge('c','b')\n",
    "graph.addEdge('c','e')\n",
    "graph.addEdge('e','c')\n",
    "print(graph.edges)\n",
    "\n",
    "print('BFS of Graph a-d-b-c-e is :')\n",
    "graph.BFS('b')\n",
    "print('\\nDFS of Graph a-d-b-c-e is :')\n",
    "graph.DFS('b')\n",
    "print('\\nAssuming that the Graph is connected, the Graph is:')\n",
    "print(graph.isPlanar())\n",
    "print('\\nThe Graph is Euler or not: ')\n",
    "print(graph.isEuler())\n"
   ]
  }
 ]
}