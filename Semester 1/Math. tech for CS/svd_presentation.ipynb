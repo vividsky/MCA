{
 "metadata": {
  "language_info": {
   "codemirror_mode": {
    "name": "ipython",
    "version": 3
   },
   "file_extension": ".py",
   "mimetype": "text/x-python",
   "name": "python",
   "nbconvert_exporter": "python",
   "pygments_lexer": "ipython3",
   "version": "3.7.3-final"
  },
  "orig_nbformat": 2,
  "kernelspec": {
   "name": "python3",
   "display_name": "Python 3.7.3 32-bit",
   "metadata": {
    "interpreter": {
     "hash": "1f569f38f9ff0ccc2d6519de6d5565ac966e53582e7a68dd5bf488942db796b1"
    }
   }
  }
 },
 "nbformat": 4,
 "nbformat_minor": 2,
 "cells": [
  {
   "cell_type": "code",
   "execution_count": 21,
   "metadata": {},
   "outputs": [
    {
     "output_type": "stream",
     "name": "stdout",
     "text": [
      "Vector U is:\n [[-0.31622777 -0.9486833 ]\n [-0.9486833   0.31622777]]\nSigma diagonal entries are :\n [6.70820393 2.23606798]\nVector Vt is:\n [[-0.70710678 -0.70710678]\n [-0.70710678  0.70710678]]\n"
     ]
    }
   ],
   "source": [
    "import numpy as np                           \n",
    "A = np.array([[3,0],[4,5]])\n",
    "U,Sigma,Vt = np.linalg.svd(A)\n",
    "print('Vector U is:\\n',U)\n",
    "print('Sigma diagonal entries are :\\n',Sigma)\n",
    "print('Vector Vt is:\\n',Vt)\n"
   ]
  },
  {
   "cell_type": "code",
   "execution_count": 2,
   "metadata": {},
   "outputs": [
    {
     "output_type": "stream",
     "name": "stdout",
     "text": [
      "first diagonal entry : 6.708203932499369\n"
     ]
    }
   ],
   "source": [
    "import math \n",
    "a = 3*math.sqrt(5)\n",
    "b = 1/math.sqrt(2)\n",
    "# 1 Radian  = 57.2958 degree\n",
    "#here c is theta and  giving us value in radians initially\n",
    "#so we convert in into degree\n",
    "#hence cos(theta) = 1/math.sqrt(2) \n",
    "#theta = acos(1/math.sqrt(2))\n",
    "c = math.acos(-0.7071078)*57.2958\n",
    "#to convert it into degree we can do this\n",
    "d = 180 - c\n",
    "print('first diagonal entry :',a)"
   ]
  },
  {
   "cell_type": "code",
   "execution_count": null,
   "metadata": {},
   "outputs": [],
   "source": []
  }
 ]
}